{
 "cells": [
  {
   "cell_type": "markdown",
   "metadata": {
    "collapsed": true
   },
   "source": [
    "# Whats the best way and time to get comments on Hacker News?"
   ]
  },
  {
   "cell_type": "markdown",
   "metadata": {},
   "source": [
    "The goal of this project is to see whats the best way to get comments and when is the best time to post to receive comments.  We take a look at the Ask HN and Show HN and see which ones receive more comments.  Then we take a look at what times comments are made and see when people are most active.  This will help give us the best way to get feedback when using Hacker News for any questions we have.  You can download load the file [here]('https://dq-content.s3.amazonaws.com/356/hacker_news.csv')."
   ]
  },
  {
   "cell_type": "code",
   "execution_count": 1,
   "metadata": {},
   "outputs": [
    {
     "data": {
      "text/plain": [
       "[['id', 'title', 'url', 'num_points', 'num_comments', 'author', 'created_at'],\n",
       " ['12224879',\n",
       "  'Interactive Dynamic Video',\n",
       "  'http://www.interactivedynamicvideo.com/',\n",
       "  '386',\n",
       "  '52',\n",
       "  'ne0phyte',\n",
       "  '8/4/2016 11:52'],\n",
       " ['10975351',\n",
       "  'How to Use Open Source and Shut the Fuck Up at the Same Time',\n",
       "  'http://hueniverse.com/2016/01/26/how-to-use-open-source-and-shut-the-fuck-up-at-the-same-time/',\n",
       "  '39',\n",
       "  '10',\n",
       "  'josep2',\n",
       "  '1/26/2016 19:30'],\n",
       " ['11964716',\n",
       "  \"Florida DJs May Face Felony for April Fools' Water Joke\",\n",
       "  'http://www.thewire.com/entertainment/2013/04/florida-djs-april-fools-water-joke/63798/',\n",
       "  '2',\n",
       "  '1',\n",
       "  'vezycash',\n",
       "  '6/23/2016 22:20'],\n",
       " ['11919867',\n",
       "  'Technology ventures: From Idea to Enterprise',\n",
       "  'https://www.amazon.com/Technology-Ventures-Enterprise-Thomas-Byers/dp/0073523429',\n",
       "  '3',\n",
       "  '1',\n",
       "  'hswarna',\n",
       "  '6/17/2016 0:01']]"
      ]
     },
     "execution_count": 1,
     "metadata": {},
     "output_type": "execute_result"
    }
   ],
   "source": [
    "# Importing csv file and looking at the top five rows\n",
    "from csv import reader\n",
    "\n",
    "opened_file = open('hacker_news.csv')\n",
    "read_file = reader(opened_file)\n",
    "hn = list(read_file)\n",
    "hn[:5]"
   ]
  },
  {
   "cell_type": "code",
   "execution_count": 2,
   "metadata": {},
   "outputs": [
    {
     "data": {
      "text/plain": [
       "[['12224879',\n",
       "  'Interactive Dynamic Video',\n",
       "  'http://www.interactivedynamicvideo.com/',\n",
       "  '386',\n",
       "  '52',\n",
       "  'ne0phyte',\n",
       "  '8/4/2016 11:52'],\n",
       " ['10975351',\n",
       "  'How to Use Open Source and Shut the Fuck Up at the Same Time',\n",
       "  'http://hueniverse.com/2016/01/26/how-to-use-open-source-and-shut-the-fuck-up-at-the-same-time/',\n",
       "  '39',\n",
       "  '10',\n",
       "  'josep2',\n",
       "  '1/26/2016 19:30'],\n",
       " ['11964716',\n",
       "  \"Florida DJs May Face Felony for April Fools' Water Joke\",\n",
       "  'http://www.thewire.com/entertainment/2013/04/florida-djs-april-fools-water-joke/63798/',\n",
       "  '2',\n",
       "  '1',\n",
       "  'vezycash',\n",
       "  '6/23/2016 22:20'],\n",
       " ['11919867',\n",
       "  'Technology ventures: From Idea to Enterprise',\n",
       "  'https://www.amazon.com/Technology-Ventures-Enterprise-Thomas-Byers/dp/0073523429',\n",
       "  '3',\n",
       "  '1',\n",
       "  'hswarna',\n",
       "  '6/17/2016 0:01'],\n",
       " ['10301696',\n",
       "  'Note by Note: The Making of Steinway L1037 (2007)',\n",
       "  'http://www.nytimes.com/2007/11/07/movies/07stein.html?_r=0',\n",
       "  '8',\n",
       "  '2',\n",
       "  'walterbell',\n",
       "  '9/30/2015 4:12']]"
      ]
     },
     "execution_count": 2,
     "metadata": {},
     "output_type": "execute_result"
    }
   ],
   "source": [
    "# Getting header from data\n",
    "header = hn[0]\n",
    "\n",
    "# Removing header from data\n",
    "hn = hn[1:]\n",
    "hn[:5]"
   ]
  },
  {
   "cell_type": "markdown",
   "metadata": {},
   "source": [
    "## Separating the Ask and Show post from the dataset"
   ]
  },
  {
   "cell_type": "code",
   "execution_count": 3,
   "metadata": {},
   "outputs": [
    {
     "name": "stdout",
     "output_type": "stream",
     "text": [
      "The Number of Ask Posts: 1744\n",
      "The Number of Show Posts: 1162\n",
      "The Number of Other Posts: 17194\n"
     ]
    }
   ],
   "source": [
    "# Creating empty list for each type of post\n",
    "ask_posts = []\n",
    "show_posts = []\n",
    "other_posts = []\n",
    "\n",
    "# Getting number of post for each type\n",
    "for x in hn:\n",
    "    title = x[1].lower()\n",
    "    if title.startswith('ask hn'):\n",
    "        ask_posts.append(x)\n",
    "    elif title.startswith('show hn'):\n",
    "        show_posts.append(x)\n",
    "    else:\n",
    "        other_posts.append(x)\n",
    "        \n",
    "print('The Number of Ask Posts:', len(ask_posts))\n",
    "print('The Number of Show Posts:', len(show_posts))\n",
    "print('The Number of Other Posts:', len(other_posts))"
   ]
  },
  {
   "cell_type": "markdown",
   "metadata": {},
   "source": [
    "We can see once the post have been sorted we get a handful of Ask and Show posts out of all posts from the dataset.  Even though our data is greatly reduced this gives us a better insight.  The other post are random and can be about anything so it will be very difficult and time consuming to try and sort then into categories. "
   ]
  },
  {
   "cell_type": "markdown",
   "metadata": {},
   "source": [
    "## Getting the Average number of comments for Ask and Show"
   ]
  },
  {
   "cell_type": "code",
   "execution_count": 4,
   "metadata": {},
   "outputs": [
    {
     "name": "stdout",
     "output_type": "stream",
     "text": [
      "The average number of comments for ask post: 14.04\n",
      "The average number of comments for show post: 10.32\n"
     ]
    }
   ],
   "source": [
    "# Creating variables to get the number of comments for ask and show post\n",
    "total_ask_comments = 0\n",
    "total_show_comments = 0\n",
    "\n",
    "# Getting the sum of comments for each type of post\n",
    "for x in ask_posts:\n",
    "    total_ask_comments += int(x[4])\n",
    "    \n",
    "for x in show_posts:\n",
    "    total_show_comments += int(x[4])\n",
    "\n",
    "# Getting the average comment per post\n",
    "avg_ask_comments = total_ask_comments/len(ask_posts)\n",
    "avg_show_comments = total_show_comments/len(show_posts)\n",
    "\n",
    "print('The average number of comments for ask post:',round(avg_ask_comments,2))\n",
    "print('The average number of comments for show post:', round(avg_show_comments,2))"
   ]
  },
  {
   "cell_type": "markdown",
   "metadata": {},
   "source": [
    "We can see on average that Ask posts get more comments then Show post.  If a user wanted to get a conversation going then Asking would be the way to go.  The Show post also gets a good amount of comments as well so its not to say using a Show post won't get you any comments."
   ]
  },
  {
   "cell_type": "markdown",
   "metadata": {},
   "source": [
    "## What Hours do Post get the Most Comments "
   ]
  },
  {
   "cell_type": "markdown",
   "metadata": {},
   "source": [
    "Now we will take a look at the Ask posts and see what time they get the most comments on average."
   ]
  },
  {
   "cell_type": "code",
   "execution_count": 5,
   "metadata": {},
   "outputs": [],
   "source": [
    "import datetime as dt\n",
    "\n",
    "# Creating empty list to get time and number of comments\n",
    "result_list = []\n",
    "\n",
    "# Creating a list for time created and number of comments and appending to list\n",
    "for x in ask_posts:\n",
    "    created_at = x[6]\n",
    "    num_of_comments = int(x[4])\n",
    "    result_list.append([created_at,num_of_comments])"
   ]
  },
  {
   "cell_type": "code",
   "execution_count": 6,
   "metadata": {},
   "outputs": [],
   "source": [
    "# Creating empty dict\n",
    "counts_by_hour = {}\n",
    "comments_by_hour = {}\n",
    "\n",
    "# Getting number of comments for every hour\n",
    "for x in result_list:\n",
    "    # Converting time to datetime and selecting the hour\n",
    "    date = x[0]\n",
    "    date_time = dt.datetime.strptime(date,'%m/%d/%Y %H:%M')\n",
    "    hour = date_time.strftime('%H')\n",
    "    if hour not in counts_by_hour:\n",
    "        counts_by_hour[hour] = 1\n",
    "        comments_by_hour[hour] = x[1]\n",
    "    else:\n",
    "        counts_by_hour[hour] += 1\n",
    "        comments_by_hour[hour] += x[1]\n",
    "        \n"
   ]
  },
  {
   "cell_type": "code",
   "execution_count": 7,
   "metadata": {},
   "outputs": [],
   "source": [
    "avg_by_hour = []\n",
    "\n",
    "# Getting average number of comments per hour\n",
    "for x in counts_by_hour:\n",
    "    avg = round((comments_by_hour[x]/counts_by_hour[x]),2)\n",
    "    avg_by_hour.append([avg,x])\n",
    "    \n",
    "avg_by_hour.sort(reverse = True)"
   ]
  },
  {
   "cell_type": "code",
   "execution_count": 8,
   "metadata": {},
   "outputs": [
    {
     "name": "stdout",
     "output_type": "stream",
     "text": [
      "Top 5 Hours for Ask Posts Comments\n",
      "15:00 : 38.59\n",
      "02:00 : 23.81\n",
      "20:00 : 21.52\n",
      "16:00 : 16.8\n",
      "21:00 : 16.01\n"
     ]
    }
   ],
   "source": [
    "print('Top 5 Hours for Ask Posts Comments')\n",
    "for x in avg_by_hour[:5]:\n",
    "    time = dt.datetime.strptime(x[1],'%H')\n",
    "    time = time.strftime('%H:%M')\n",
    "    print(time,':',x[0])"
   ]
  },
  {
   "cell_type": "markdown",
   "metadata": {},
   "source": [
    "Looking at the Top 5 hours we can see that the best time your Ask post will get comments is at 3 pm.  People are very active between 3-5 pm and again at 8-10 pm.  So these will be the target times to make your Ask post to get people to comment on your post."
   ]
  },
  {
   "cell_type": "markdown",
   "metadata": {},
   "source": [
    "## Getting Average number of Points per Ask and Show Post"
   ]
  },
  {
   "cell_type": "code",
   "execution_count": 9,
   "metadata": {},
   "outputs": [
    {
     "name": "stdout",
     "output_type": "stream",
     "text": [
      "The average number of points for ask post: 15.06\n",
      "The average number of points for show post: 27.56\n"
     ]
    }
   ],
   "source": [
    "# Creating variable to get the value of points\n",
    "total_ask_points = 0\n",
    "total_show_points = 0\n",
    "\n",
    "# Getting the total sum of points\n",
    "for x in ask_posts:\n",
    "    total_ask_points += int(x[3])\n",
    "    \n",
    "for x in show_posts:\n",
    "    total_show_points += int(x[3])\n",
    "\n",
    "# Getting the average number of points per post\n",
    "avg_ask_points = total_ask_points/len(ask_posts)\n",
    "avg_show_points = total_show_points/len(show_posts)\n",
    "\n",
    "print('The average number of points for ask post:',round(avg_ask_points,2))\n",
    "print('The average number of points for show post:', round(avg_show_points,2))"
   ]
  },
  {
   "cell_type": "markdown",
   "metadata": {},
   "source": [
    "Now looking at the average number of points per post, we can see that Show post have close to double compared to Ask post.  This tells us how popular a post is.  We can see that Show posts are more popular then the Ask posts."
   ]
  },
  {
   "cell_type": "markdown",
   "metadata": {},
   "source": [
    "## What hours do Show post get the Most Points"
   ]
  },
  {
   "cell_type": "markdown",
   "metadata": {},
   "source": [
    "Since Show post got more points on average, we will take a closer look to see what times they get the most points."
   ]
  },
  {
   "cell_type": "code",
   "execution_count": 10,
   "metadata": {},
   "outputs": [],
   "source": [
    "# Creating empty list for time and points for show post\n",
    "show_points = []\n",
    "\n",
    "# Getting the time and points for each show post and appending to show_points\n",
    "for x in show_posts:\n",
    "    created_at = x[6]\n",
    "    num_of_points = int(x[3])\n",
    "    show_points.append([created_at,num_of_points])"
   ]
  },
  {
   "cell_type": "code",
   "execution_count": 11,
   "metadata": {},
   "outputs": [],
   "source": [
    "# Creating empty dicts\n",
    "counts_show = {}\n",
    "points_show = {}\n",
    "\n",
    "# Getting number of points per hour\n",
    "for x in show_points:\n",
    "    # Converting time to a datetime and getting hour\n",
    "    date = x[0]\n",
    "    date_time = dt.datetime.strptime(date,'%m/%d/%Y %H:%M')\n",
    "    hour = date_time.strftime('%H')\n",
    "    if hour not in counts_show:\n",
    "        counts_show[hour] = 1\n",
    "        points_show[hour] = x[1]\n",
    "    else:\n",
    "        counts_show[hour] += 1\n",
    "        points_show[hour] += x[1]"
   ]
  },
  {
   "cell_type": "code",
   "execution_count": 12,
   "metadata": {},
   "outputs": [],
   "source": [
    "avg_show = []\n",
    "\n",
    "# Getting average points per hour\n",
    "for x in counts_show:\n",
    "    avg = round((points_show[x]/counts_show[x]),2)\n",
    "    avg_show.append([avg,x])\n",
    "    \n",
    "avg_show.sort(reverse = True)"
   ]
  },
  {
   "cell_type": "code",
   "execution_count": 13,
   "metadata": {},
   "outputs": [
    {
     "name": "stdout",
     "output_type": "stream",
     "text": [
      "Top 5 Hours for Show Posts based on Points\n",
      "23:00 : 42.39\n",
      "12:00 : 41.69\n",
      "22:00 : 40.35\n",
      "00:00 : 37.84\n",
      "18:00 : 36.31\n"
     ]
    }
   ],
   "source": [
    "print('Top 5 Hours for Show Posts based on Points')\n",
    "for x in avg_show[:5]:\n",
    "    time = dt.datetime.strptime(x[1],'%H')\n",
    "    time = time.strftime('%H:%M')\n",
    "    print(time,':',x[0])"
   ]
  },
  {
   "cell_type": "markdown",
   "metadata": {},
   "source": [
    "Looking at the top averages we can see that at 11 pm Show post get the most points.  It looks like people are most active between 10pm and 12am.  They are most likely just reading post on the site right before bed. Noon is another good time to get the most points.  Most working adults are taking lunch at this time and are just trying to relax for a moment by reading show posts before having to go back to work."
   ]
  },
  {
   "cell_type": "markdown",
   "metadata": {},
   "source": [
    "## Conclusion"
   ]
  },
  {
   "cell_type": "markdown",
   "metadata": {},
   "source": [
    "Based on the averages from comment and points, I would recommend using Show HM to get response to your posts.  On average you will get 40% less comments on your post but your post will get 83% more upvotes on it.  This trade off is more favorable due to the post getting more views and while still getting a good comment response."
   ]
  },
  {
   "cell_type": "code",
   "execution_count": null,
   "metadata": {},
   "outputs": [],
   "source": []
  }
 ],
 "metadata": {
  "kernelspec": {
   "display_name": "Python 3",
   "language": "python",
   "name": "python3"
  },
  "language_info": {
   "codemirror_mode": {
    "name": "ipython",
    "version": 3
   },
   "file_extension": ".py",
   "mimetype": "text/x-python",
   "name": "python",
   "nbconvert_exporter": "python",
   "pygments_lexer": "ipython3",
   "version": "3.8.2"
  }
 },
 "nbformat": 4,
 "nbformat_minor": 2
}
